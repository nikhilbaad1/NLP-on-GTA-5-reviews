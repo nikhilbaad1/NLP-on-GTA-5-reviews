{
 "cells": [
  {
   "cell_type": "code",
   "execution_count": 30,
   "id": "bf6cd5ae",
   "metadata": {},
   "outputs": [],
   "source": [
    "from bs4 import BeautifulSoup\n",
    "import urllib3\n",
    "import json\n",
    "http=urllib3.PoolManager()\n",
    "Abbr_dict={}\n",
    "#Function to get the Slangs from https://www.noslang.com/dictionary/\n",
    "def getAbbr(alpha):\n",
    "    global Abbr_dict\n",
    "    r=http.request('GET','https://www.noslang.com/dictionary/'+alpha)\n",
    "    \n",
    "    soup=BeautifulSoup(r.data,'html.parser')\n",
    "    \n",
    "    #Getting dictionary word and store it's values \n",
    "    for i in soup.findAll('div',{'class':'dictonary-word'}): \n",
    "        abbr=i.find('abbr')['title']\n",
    "        Abbr_dict[i.find('dt').text[:-2]]=abbr\n",
    "linkDict=[]\n",
    "\n",
    "#Generating a-z and getting the dicionary\n",
    "for one in range(97,123):\n",
    "    linkDict.append(chr(one))\n",
    "#Creating Links for https://www.noslang.com/dictionary/a...https://www.noslang.com/dictionary/b....etc\n",
    "\n",
    "for i in linkDict:\n",
    "    getAbbr(i)\n",
    "    \n",
    "# finally writing into a json file\n",
    "with open('ShortendText.json','w') as file:\n",
    "    jsonDict=json.dump(Abbr_dict,file)"
   ]
  },
  {
   "cell_type": "markdown",
   "id": "014b427a",
   "metadata": {},
   "source": [
    "### Example"
   ]
  },
  {
   "cell_type": "code",
   "execution_count": 35,
   "id": "b79bfa5d",
   "metadata": {},
   "outputs": [
    {
     "name": "stdout",
     "output_type": "stream",
     "text": [
      "['you', 'are', 'boring', 'laughing out loud']\n"
     ]
    }
   ],
   "source": [
    "from nltk.tokenize import word_tokenize\n",
    "with open('ShortendText.json','r') as file:\n",
    "    Abbr_dict=json.loads(file.read())\n",
    "\n",
    "line ='u r boring lol' #text\n",
    "tokens = word_tokenize(line)\n",
    "\n",
    "for i,token in enumerate(tokens):\n",
    "    for j in Abbr_dict:\n",
    "        if j==token:\n",
    "            tokens[i] = Abbr_dict[j]\n",
    "            \n",
    "print(tokens)"
   ]
  },
  {
   "cell_type": "code",
   "execution_count": null,
   "id": "8b7d6caf",
   "metadata": {},
   "outputs": [],
   "source": []
  }
 ],
 "metadata": {
  "kernelspec": {
   "display_name": "Python 3 (ipykernel)",
   "language": "python",
   "name": "python3"
  },
  "language_info": {
   "codemirror_mode": {
    "name": "ipython",
    "version": 3
   },
   "file_extension": ".py",
   "mimetype": "text/x-python",
   "name": "python",
   "nbconvert_exporter": "python",
   "pygments_lexer": "ipython3",
   "version": "3.10.7"
  }
 },
 "nbformat": 4,
 "nbformat_minor": 5
}
